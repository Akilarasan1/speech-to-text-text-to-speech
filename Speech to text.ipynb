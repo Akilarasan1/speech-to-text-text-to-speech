{
 "cells": [
  {
   "cell_type": "code",
   "execution_count": 1,
   "metadata": {},
   "outputs": [],
   "source": [
    "from gtts import gTTS\n",
    "import os\n",
    "import speech_recognition as sr\n",
    "from playsound import playsound\n",
    "import pyaudio\n",
    "import wave\n",
    "import io\n",
    "                                                                            "
   ]
  },
  {
   "cell_type": "code",
   "execution_count": 2,
   "metadata": {},
   "outputs": [],
   "source": [
    "def text_to_speech():\n",
    "    text = input(\"Enter the text: -\")\n",
    "    tts = gTTS(text)\n",
    "    tts.save(\"output.mp3\")\n",
    "    os.system(\"C:\\\\Users\\\\akila\\\\OneDrive\\\\Documents\\\\Jupyter\\\\Project\\\\Start output.mp3\")"
   ]
  },
  {
   "cell_type": "code",
   "execution_count": 3,
   "metadata": {},
   "outputs": [],
   "source": [
    "def play_audio(audio_data):\n",
    "    # Convert the audio data to a stream\n",
    "    audio_stream = io.BytesIO(audio_data.get_wav_data())\n",
    "    \n",
    "    # Open a .wav file stream\n",
    "    with wave.open(audio_stream, 'rb') as wf:\n",
    "        # Instantiate PyAudio\n",
    "        p = pyaudio.PyAudio()\n",
    "\n",
    "        # Open a stream to play audio\n",
    "        stream = p.open(format=p.get_format_from_width(wf.getsampwidth()),\n",
    "                        channels=wf.getnchannels(),\n",
    "                        rate=wf.getframerate(),\n",
    "                        output=True)\n",
    "\n",
    "        # Read data in chunks and play\n",
    "        chunk = 1024\n",
    "        data = wf.readframes(chunk)\n",
    "        while data:\n",
    "            stream.write(data)\n",
    "            data = wf.readframes(chunk)\n",
    "\n",
    "        # Stop and close the stream\n",
    "        stream.stop_stream()\n",
    "        stream.close()\n",
    "        p.terminate()"
   ]
  },
  {
   "cell_type": "code",
   "execution_count": 4,
   "metadata": {},
   "outputs": [],
   "source": [
    "def speech_to_text():\n",
    "    recognizer = sr.Recognizer()\n",
    "    try:\n",
    "        with sr.Microphone() as source:\n",
    "            print(\"Speak...\")\n",
    "            recognizer.adjust_for_ambient_noise(source, duration=0.2)\n",
    "            #it capture sounds includes natural and articial sounds like chatter\n",
    "            audio = recognizer.listen(source)\n",
    "        \n",
    "            play_audio(audio)\n",
    "        \n",
    "        try:\n",
    "            print(\"Recognizing...\")\n",
    "            text = recognizer.recognize_google(audio) \n",
    "            #it use google speech_recognition api mic to text\n",
    "            print(f\"You said: {text}\")\n",
    "\n",
    "        except sr.UnknownValueError:\n",
    "            print(\"Sorry, could not understand audio.\")\n",
    "        except sr.RequestError as e:\n",
    "            print(f\"Could not request results from Google Speech Recognition service; {e}\")\n",
    "    except Exception as e:\n",
    "        print(f\"An error occurred: {e}\")\n",
    "\n"
   ]
  },
  {
   "cell_type": "code",
   "execution_count": 5,
   "metadata": {},
   "outputs": [
    {
     "name": "stdout",
     "output_type": "stream",
     "text": [
      "select an option\n",
      "1. text to speech\n",
      "2. speech to text\n",
      "3.exit\n"
     ]
    },
    {
     "name": "stdin",
     "output_type": "stream",
     "text": [
      "choice (1/2/3:  1\n",
      "Enter the text: - hey how you doing?, are you okay?, go to sleep\n"
     ]
    },
    {
     "name": "stdout",
     "output_type": "stream",
     "text": [
      "select an option\n",
      "1. text to speech\n",
      "2. speech to text\n",
      "3.exit\n"
     ]
    },
    {
     "name": "stdin",
     "output_type": "stream",
     "text": [
      "choice (1/2/3:  3\n"
     ]
    },
    {
     "name": "stdout",
     "output_type": "stream",
     "text": [
      "exiting the program\n"
     ]
    }
   ],
   "source": [
    "while True:\n",
    "    print(\"select an option\")\n",
    "    print(\"1. text to speech\")\n",
    "    print(\"2. speech to text\")\n",
    "    print(\"3.exit\")\n",
    "\n",
    "    choice = input(\"choice (1/2/3: \")\n",
    "\n",
    "    if choice == '1':\n",
    "        text_to_speech()\n",
    "\n",
    "    elif choice == '2':\n",
    "        speech_to_text()\n",
    "\n",
    "    elif choice == '3':\n",
    "        print(\"exiting the program\")\n",
    "        break\n",
    "    else:\n",
    "        print(\"invalid choice. please select a valid option\")"
   ]
  },
  {
   "cell_type": "code",
   "execution_count": null,
   "metadata": {},
   "outputs": [],
   "source": []
  }
 ],
 "metadata": {
  "kernelspec": {
   "display_name": "Python 3 (ipykernel)",
   "language": "python",
   "name": "python3"
  },
  "language_info": {
   "codemirror_mode": {
    "name": "ipython",
    "version": 3
   },
   "file_extension": ".py",
   "mimetype": "text/x-python",
   "name": "python",
   "nbconvert_exporter": "python",
   "pygments_lexer": "ipython3",
   "version": "3.11.9"
  }
 },
 "nbformat": 4,
 "nbformat_minor": 4
}
